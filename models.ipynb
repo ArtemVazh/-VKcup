{
  "nbformat": 4,
  "nbformat_minor": 0,
  "metadata": {
    "colab": {
      "name": "models.ipynb",
      "provenance": [],
      "collapsed_sections": []
    },
    "kernelspec": {
      "name": "python3",
      "display_name": "Python 3"
    },
    "accelerator": "GPU",
    "widgets": {
      "application/vnd.jupyter.widget-state+json": {
        "881ba8a2b2884ae39f5fc8b783caade4": {
          "model_module": "@jupyter-widgets/controls",
          "model_name": "HBoxModel",
          "state": {
            "_view_name": "HBoxView",
            "_dom_classes": [],
            "_model_name": "HBoxModel",
            "_view_module": "@jupyter-widgets/controls",
            "_model_module_version": "1.5.0",
            "_view_count": null,
            "_view_module_version": "1.5.0",
            "box_style": "",
            "layout": "IPY_MODEL_fd4f6d4a0faa4072830c928ed4f263fa",
            "_model_module": "@jupyter-widgets/controls",
            "children": [
              "IPY_MODEL_c3c3b543e07a43aab0681eafbd6d7399",
              "IPY_MODEL_a0f7f28865b54a1e8e480a49e7a6fb67"
            ]
          }
        },
        "fd4f6d4a0faa4072830c928ed4f263fa": {
          "model_module": "@jupyter-widgets/base",
          "model_name": "LayoutModel",
          "state": {
            "_view_name": "LayoutView",
            "grid_template_rows": null,
            "right": null,
            "justify_content": null,
            "_view_module": "@jupyter-widgets/base",
            "overflow": null,
            "_model_module_version": "1.2.0",
            "_view_count": null,
            "flex_flow": null,
            "width": null,
            "min_width": null,
            "border": null,
            "align_items": null,
            "bottom": null,
            "_model_module": "@jupyter-widgets/base",
            "top": null,
            "grid_column": null,
            "overflow_y": null,
            "overflow_x": null,
            "grid_auto_flow": null,
            "grid_area": null,
            "grid_template_columns": null,
            "flex": null,
            "_model_name": "LayoutModel",
            "justify_items": null,
            "grid_row": null,
            "max_height": null,
            "align_content": null,
            "visibility": null,
            "align_self": null,
            "height": null,
            "min_height": null,
            "padding": null,
            "grid_auto_rows": null,
            "grid_gap": null,
            "max_width": null,
            "order": null,
            "_view_module_version": "1.2.0",
            "grid_template_areas": null,
            "object_position": null,
            "object_fit": null,
            "grid_auto_columns": null,
            "margin": null,
            "display": null,
            "left": null
          }
        },
        "c3c3b543e07a43aab0681eafbd6d7399": {
          "model_module": "@jupyter-widgets/controls",
          "model_name": "IntProgressModel",
          "state": {
            "_view_name": "ProgressView",
            "style": "IPY_MODEL_b9517688da954c4bb575a532477b4f00",
            "_dom_classes": [],
            "description": "",
            "_model_name": "IntProgressModel",
            "bar_style": "success",
            "max": 1008,
            "_view_module": "@jupyter-widgets/controls",
            "_model_module_version": "1.5.0",
            "value": 1008,
            "_view_count": null,
            "_view_module_version": "1.5.0",
            "orientation": "horizontal",
            "min": 0,
            "description_tooltip": null,
            "_model_module": "@jupyter-widgets/controls",
            "layout": "IPY_MODEL_dec78c4c0251465a8b08f6f98bd1685a"
          }
        },
        "a0f7f28865b54a1e8e480a49e7a6fb67": {
          "model_module": "@jupyter-widgets/controls",
          "model_name": "HTMLModel",
          "state": {
            "_view_name": "HTMLView",
            "style": "IPY_MODEL_7adbf106e0e24fcb902170466a06e0bb",
            "_dom_classes": [],
            "description": "",
            "_model_name": "HTMLModel",
            "placeholder": "​",
            "_view_module": "@jupyter-widgets/controls",
            "_model_module_version": "1.5.0",
            "value": "100% 1008/1008 [03:02&lt;00:00,  5.60it/s]",
            "_view_count": null,
            "_view_module_version": "1.5.0",
            "description_tooltip": null,
            "_model_module": "@jupyter-widgets/controls",
            "layout": "IPY_MODEL_48e93fe2e93c4f48ae03d0896eb541c8"
          }
        },
        "b9517688da954c4bb575a532477b4f00": {
          "model_module": "@jupyter-widgets/controls",
          "model_name": "ProgressStyleModel",
          "state": {
            "_view_name": "StyleView",
            "_model_name": "ProgressStyleModel",
            "description_width": "",
            "_view_module": "@jupyter-widgets/base",
            "_model_module_version": "1.5.0",
            "_view_count": null,
            "_view_module_version": "1.2.0",
            "bar_color": null,
            "_model_module": "@jupyter-widgets/controls"
          }
        },
        "dec78c4c0251465a8b08f6f98bd1685a": {
          "model_module": "@jupyter-widgets/base",
          "model_name": "LayoutModel",
          "state": {
            "_view_name": "LayoutView",
            "grid_template_rows": null,
            "right": null,
            "justify_content": null,
            "_view_module": "@jupyter-widgets/base",
            "overflow": null,
            "_model_module_version": "1.2.0",
            "_view_count": null,
            "flex_flow": null,
            "width": null,
            "min_width": null,
            "border": null,
            "align_items": null,
            "bottom": null,
            "_model_module": "@jupyter-widgets/base",
            "top": null,
            "grid_column": null,
            "overflow_y": null,
            "overflow_x": null,
            "grid_auto_flow": null,
            "grid_area": null,
            "grid_template_columns": null,
            "flex": null,
            "_model_name": "LayoutModel",
            "justify_items": null,
            "grid_row": null,
            "max_height": null,
            "align_content": null,
            "visibility": null,
            "align_self": null,
            "height": null,
            "min_height": null,
            "padding": null,
            "grid_auto_rows": null,
            "grid_gap": null,
            "max_width": null,
            "order": null,
            "_view_module_version": "1.2.0",
            "grid_template_areas": null,
            "object_position": null,
            "object_fit": null,
            "grid_auto_columns": null,
            "margin": null,
            "display": null,
            "left": null
          }
        },
        "7adbf106e0e24fcb902170466a06e0bb": {
          "model_module": "@jupyter-widgets/controls",
          "model_name": "DescriptionStyleModel",
          "state": {
            "_view_name": "StyleView",
            "_model_name": "DescriptionStyleModel",
            "description_width": "",
            "_view_module": "@jupyter-widgets/base",
            "_model_module_version": "1.5.0",
            "_view_count": null,
            "_view_module_version": "1.2.0",
            "_model_module": "@jupyter-widgets/controls"
          }
        },
        "48e93fe2e93c4f48ae03d0896eb541c8": {
          "model_module": "@jupyter-widgets/base",
          "model_name": "LayoutModel",
          "state": {
            "_view_name": "LayoutView",
            "grid_template_rows": null,
            "right": null,
            "justify_content": null,
            "_view_module": "@jupyter-widgets/base",
            "overflow": null,
            "_model_module_version": "1.2.0",
            "_view_count": null,
            "flex_flow": null,
            "width": null,
            "min_width": null,
            "border": null,
            "align_items": null,
            "bottom": null,
            "_model_module": "@jupyter-widgets/base",
            "top": null,
            "grid_column": null,
            "overflow_y": null,
            "overflow_x": null,
            "grid_auto_flow": null,
            "grid_area": null,
            "grid_template_columns": null,
            "flex": null,
            "_model_name": "LayoutModel",
            "justify_items": null,
            "grid_row": null,
            "max_height": null,
            "align_content": null,
            "visibility": null,
            "align_self": null,
            "height": null,
            "min_height": null,
            "padding": null,
            "grid_auto_rows": null,
            "grid_gap": null,
            "max_width": null,
            "order": null,
            "_view_module_version": "1.2.0",
            "grid_template_areas": null,
            "object_position": null,
            "object_fit": null,
            "grid_auto_columns": null,
            "margin": null,
            "display": null,
            "left": null
          }
        }
      }
    }
  },
  "cells": [
    {
      "cell_type": "code",
      "metadata": {
        "id": "M0ip-vxOPpSa",
        "colab_type": "code",
        "outputId": "368a293d-1aec-4792-cfd3-0be60fc49420",
        "colab": {
          "base_uri": "https://localhost:8080/",
          "height": 34
        }
      },
      "source": [
        "from google.colab import drive\n",
        "drive.mount('/vkcup/')"
      ],
      "execution_count": 0,
      "outputs": [
        {
          "output_type": "stream",
          "text": [
            "Drive already mounted at /vkcup/; to attempt to forcibly remount, call drive.mount(\"/vkcup/\", force_remount=True).\n"
          ],
          "name": "stdout"
        }
      ]
    },
    {
      "cell_type": "code",
      "metadata": {
        "id": "vBP9l9cMPtKH",
        "colab_type": "code",
        "outputId": "51a2b88b-4109-462a-942a-9f4fdb484d10",
        "colab": {
          "base_uri": "https://localhost:8080/",
          "height": 416
        }
      },
      "source": [
        "!pip install catboost\n",
        "!pip install xgboost\n",
        "!pip install lightgbm"
      ],
      "execution_count": 0,
      "outputs": [
        {
          "output_type": "stream",
          "text": [
            "Requirement already satisfied: catboost in /usr/local/lib/python3.6/dist-packages (0.22)\n",
            "Requirement already satisfied: numpy>=1.16.0 in /usr/local/lib/python3.6/dist-packages (from catboost) (1.17.5)\n",
            "Requirement already satisfied: plotly in /usr/local/lib/python3.6/dist-packages (from catboost) (4.4.1)\n",
            "Requirement already satisfied: matplotlib in /usr/local/lib/python3.6/dist-packages (from catboost) (3.1.3)\n",
            "Requirement already satisfied: six in /usr/local/lib/python3.6/dist-packages (from catboost) (1.12.0)\n",
            "Requirement already satisfied: scipy in /usr/local/lib/python3.6/dist-packages (from catboost) (1.4.1)\n",
            "Requirement already satisfied: pandas>=0.24.0 in /usr/local/lib/python3.6/dist-packages (from catboost) (0.25.3)\n",
            "Requirement already satisfied: graphviz in /usr/local/lib/python3.6/dist-packages (from catboost) (0.10.1)\n",
            "Requirement already satisfied: retrying>=1.3.3 in /usr/local/lib/python3.6/dist-packages (from plotly->catboost) (1.3.3)\n",
            "Requirement already satisfied: cycler>=0.10 in /usr/local/lib/python3.6/dist-packages (from matplotlib->catboost) (0.10.0)\n",
            "Requirement already satisfied: kiwisolver>=1.0.1 in /usr/local/lib/python3.6/dist-packages (from matplotlib->catboost) (1.1.0)\n",
            "Requirement already satisfied: python-dateutil>=2.1 in /usr/local/lib/python3.6/dist-packages (from matplotlib->catboost) (2.6.1)\n",
            "Requirement already satisfied: pyparsing!=2.0.4,!=2.1.2,!=2.1.6,>=2.0.1 in /usr/local/lib/python3.6/dist-packages (from matplotlib->catboost) (2.4.6)\n",
            "Requirement already satisfied: pytz>=2017.2 in /usr/local/lib/python3.6/dist-packages (from pandas>=0.24.0->catboost) (2018.9)\n",
            "Requirement already satisfied: setuptools in /usr/local/lib/python3.6/dist-packages (from kiwisolver>=1.0.1->matplotlib->catboost) (45.2.0)\n",
            "Requirement already satisfied: xgboost in /usr/local/lib/python3.6/dist-packages (0.90)\n",
            "Requirement already satisfied: scipy in /usr/local/lib/python3.6/dist-packages (from xgboost) (1.4.1)\n",
            "Requirement already satisfied: numpy in /usr/local/lib/python3.6/dist-packages (from xgboost) (1.17.5)\n",
            "Requirement already satisfied: lightgbm in /usr/local/lib/python3.6/dist-packages (2.2.3)\n",
            "Requirement already satisfied: numpy in /usr/local/lib/python3.6/dist-packages (from lightgbm) (1.17.5)\n",
            "Requirement already satisfied: scipy in /usr/local/lib/python3.6/dist-packages (from lightgbm) (1.4.1)\n",
            "Requirement already satisfied: scikit-learn in /usr/local/lib/python3.6/dist-packages (from lightgbm) (0.22.1)\n",
            "Requirement already satisfied: joblib>=0.11 in /usr/local/lib/python3.6/dist-packages (from scikit-learn->lightgbm) (0.14.1)\n"
          ],
          "name": "stdout"
        }
      ]
    },
    {
      "cell_type": "code",
      "metadata": {
        "id": "O-X5q_x72SQy",
        "colab_type": "code",
        "colab": {}
      },
      "source": [
        "from lightgbm import LGBMRegressor"
      ],
      "execution_count": 0,
      "outputs": []
    },
    {
      "cell_type": "code",
      "metadata": {
        "id": "o_qLPrh4YY12",
        "colab_type": "code",
        "colab": {}
      },
      "source": [
        "from catboost import CatBoostRegressor"
      ],
      "execution_count": 0,
      "outputs": []
    },
    {
      "cell_type": "code",
      "metadata": {
        "id": "ba6RbconP-Rh",
        "colab_type": "code",
        "colab": {}
      },
      "source": [
        "import pandas as pd\n",
        "import numpy as np"
      ],
      "execution_count": 0,
      "outputs": []
    },
    {
      "cell_type": "code",
      "metadata": {
        "id": "uPYqJOIAPw93",
        "colab_type": "code",
        "outputId": "1730dcd7-9a46-443a-b703-0af31c51e3f5",
        "colab": {
          "base_uri": "https://localhost:8080/",
          "height": 206
        }
      },
      "source": [
        "users = pd.read_csv(\"/vkcup/My Drive/Colab Notebooks/vkcup2/data/users.tsv\", sep=\"\\t\")\n",
        "users.head()"
      ],
      "execution_count": 0,
      "outputs": [
        {
          "output_type": "execute_result",
          "data": {
            "text/html": [
              "<div>\n",
              "<style scoped>\n",
              "    .dataframe tbody tr th:only-of-type {\n",
              "        vertical-align: middle;\n",
              "    }\n",
              "\n",
              "    .dataframe tbody tr th {\n",
              "        vertical-align: top;\n",
              "    }\n",
              "\n",
              "    .dataframe thead th {\n",
              "        text-align: right;\n",
              "    }\n",
              "</style>\n",
              "<table border=\"1\" class=\"dataframe\">\n",
              "  <thead>\n",
              "    <tr style=\"text-align: right;\">\n",
              "      <th></th>\n",
              "      <th>user_id</th>\n",
              "      <th>sex</th>\n",
              "      <th>age</th>\n",
              "      <th>city_id</th>\n",
              "    </tr>\n",
              "  </thead>\n",
              "  <tbody>\n",
              "    <tr>\n",
              "      <th>0</th>\n",
              "      <td>0</td>\n",
              "      <td>2</td>\n",
              "      <td>19</td>\n",
              "      <td>0</td>\n",
              "    </tr>\n",
              "    <tr>\n",
              "      <th>1</th>\n",
              "      <td>1</td>\n",
              "      <td>1</td>\n",
              "      <td>0</td>\n",
              "      <td>1</td>\n",
              "    </tr>\n",
              "    <tr>\n",
              "      <th>2</th>\n",
              "      <td>2</td>\n",
              "      <td>2</td>\n",
              "      <td>24</td>\n",
              "      <td>2</td>\n",
              "    </tr>\n",
              "    <tr>\n",
              "      <th>3</th>\n",
              "      <td>3</td>\n",
              "      <td>1</td>\n",
              "      <td>20</td>\n",
              "      <td>3</td>\n",
              "    </tr>\n",
              "    <tr>\n",
              "      <th>4</th>\n",
              "      <td>4</td>\n",
              "      <td>2</td>\n",
              "      <td>29</td>\n",
              "      <td>4</td>\n",
              "    </tr>\n",
              "  </tbody>\n",
              "</table>\n",
              "</div>"
            ],
            "text/plain": [
              "   user_id  sex  age  city_id\n",
              "0        0    2   19        0\n",
              "1        1    1    0        1\n",
              "2        2    2   24        2\n",
              "3        3    1   20        3\n",
              "4        4    2   29        4"
            ]
          },
          "metadata": {
            "tags": []
          },
          "execution_count": 7
        }
      ]
    },
    {
      "cell_type": "code",
      "metadata": {
        "id": "tLvetU2wPxah",
        "colab_type": "code",
        "outputId": "9a882903-a269-4343-9bbb-3657e8f28581",
        "colab": {
          "base_uri": "https://localhost:8080/",
          "height": 206
        }
      },
      "source": [
        "history = pd.read_csv(\"/vkcup/My Drive/Colab Notebooks/vkcup2/data/history.tsv\", sep=\"\\t\")\n",
        "history.head()"
      ],
      "execution_count": 0,
      "outputs": [
        {
          "output_type": "execute_result",
          "data": {
            "text/html": [
              "<div>\n",
              "<style scoped>\n",
              "    .dataframe tbody tr th:only-of-type {\n",
              "        vertical-align: middle;\n",
              "    }\n",
              "\n",
              "    .dataframe tbody tr th {\n",
              "        vertical-align: top;\n",
              "    }\n",
              "\n",
              "    .dataframe thead th {\n",
              "        text-align: right;\n",
              "    }\n",
              "</style>\n",
              "<table border=\"1\" class=\"dataframe\">\n",
              "  <thead>\n",
              "    <tr style=\"text-align: right;\">\n",
              "      <th></th>\n",
              "      <th>hour</th>\n",
              "      <th>cpm</th>\n",
              "      <th>publisher</th>\n",
              "      <th>user_id</th>\n",
              "    </tr>\n",
              "  </thead>\n",
              "  <tbody>\n",
              "    <tr>\n",
              "      <th>0</th>\n",
              "      <td>10</td>\n",
              "      <td>30.00</td>\n",
              "      <td>1</td>\n",
              "      <td>15661</td>\n",
              "    </tr>\n",
              "    <tr>\n",
              "      <th>1</th>\n",
              "      <td>8</td>\n",
              "      <td>41.26</td>\n",
              "      <td>1</td>\n",
              "      <td>8444</td>\n",
              "    </tr>\n",
              "    <tr>\n",
              "      <th>2</th>\n",
              "      <td>7</td>\n",
              "      <td>360.00</td>\n",
              "      <td>1</td>\n",
              "      <td>15821</td>\n",
              "    </tr>\n",
              "    <tr>\n",
              "      <th>3</th>\n",
              "      <td>18</td>\n",
              "      <td>370.00</td>\n",
              "      <td>1</td>\n",
              "      <td>21530</td>\n",
              "    </tr>\n",
              "    <tr>\n",
              "      <th>4</th>\n",
              "      <td>8</td>\n",
              "      <td>195.00</td>\n",
              "      <td>2</td>\n",
              "      <td>22148</td>\n",
              "    </tr>\n",
              "  </tbody>\n",
              "</table>\n",
              "</div>"
            ],
            "text/plain": [
              "   hour     cpm  publisher  user_id\n",
              "0    10   30.00          1    15661\n",
              "1     8   41.26          1     8444\n",
              "2     7  360.00          1    15821\n",
              "3    18  370.00          1    21530\n",
              "4     8  195.00          2    22148"
            ]
          },
          "metadata": {
            "tags": []
          },
          "execution_count": 8
        }
      ]
    },
    {
      "cell_type": "code",
      "metadata": {
        "id": "WCZT3wSUemxZ",
        "colab_type": "code",
        "outputId": "769489e2-bdff-4f7a-a7d9-f37595e69cf8",
        "colab": {
          "base_uri": "https://localhost:8080/",
          "height": 206
        }
      },
      "source": [
        "validate = pd.read_csv(\"/vkcup/My Drive/Colab Notebooks/vkcup2/data/validate.tsv\", sep=\"\\t\")\n",
        "validate.head()"
      ],
      "execution_count": 0,
      "outputs": [
        {
          "output_type": "execute_result",
          "data": {
            "text/html": [
              "<div>\n",
              "<style scoped>\n",
              "    .dataframe tbody tr th:only-of-type {\n",
              "        vertical-align: middle;\n",
              "    }\n",
              "\n",
              "    .dataframe tbody tr th {\n",
              "        vertical-align: top;\n",
              "    }\n",
              "\n",
              "    .dataframe thead th {\n",
              "        text-align: right;\n",
              "    }\n",
              "</style>\n",
              "<table border=\"1\" class=\"dataframe\">\n",
              "  <thead>\n",
              "    <tr style=\"text-align: right;\">\n",
              "      <th></th>\n",
              "      <th>cpm</th>\n",
              "      <th>hour_start</th>\n",
              "      <th>hour_end</th>\n",
              "      <th>publishers</th>\n",
              "      <th>audience_size</th>\n",
              "      <th>user_ids</th>\n",
              "    </tr>\n",
              "  </thead>\n",
              "  <tbody>\n",
              "    <tr>\n",
              "      <th>0</th>\n",
              "      <td>220.0</td>\n",
              "      <td>1058</td>\n",
              "      <td>1153</td>\n",
              "      <td>7,17</td>\n",
              "      <td>1906</td>\n",
              "      <td>12,44,46,50,58,71,93,122,134,143,176,184,187,1...</td>\n",
              "    </tr>\n",
              "    <tr>\n",
              "      <th>1</th>\n",
              "      <td>312.0</td>\n",
              "      <td>1295</td>\n",
              "      <td>1301</td>\n",
              "      <td>3,18</td>\n",
              "      <td>1380</td>\n",
              "      <td>29,81,98,102,165,167,195,205,218,231,242,263,3...</td>\n",
              "    </tr>\n",
              "    <tr>\n",
              "      <th>2</th>\n",
              "      <td>70.0</td>\n",
              "      <td>1229</td>\n",
              "      <td>1249</td>\n",
              "      <td>1,2,3,9,15,21</td>\n",
              "      <td>888</td>\n",
              "      <td>12,23,25,29,45,85,92,124,156,190,272,334,456,5...</td>\n",
              "    </tr>\n",
              "    <tr>\n",
              "      <th>3</th>\n",
              "      <td>240.0</td>\n",
              "      <td>1295</td>\n",
              "      <td>1377</td>\n",
              "      <td>1,14</td>\n",
              "      <td>440</td>\n",
              "      <td>44,122,187,209,242,255,312,345,382,465,513,524...</td>\n",
              "    </tr>\n",
              "    <tr>\n",
              "      <th>4</th>\n",
              "      <td>262.0</td>\n",
              "      <td>752</td>\n",
              "      <td>990</td>\n",
              "      <td>1,3,7,8</td>\n",
              "      <td>1476</td>\n",
              "      <td>15,24,30,43,50,53,96,105,159,168,181,190,196,2...</td>\n",
              "    </tr>\n",
              "  </tbody>\n",
              "</table>\n",
              "</div>"
            ],
            "text/plain": [
              "     cpm  ...                                           user_ids\n",
              "0  220.0  ...  12,44,46,50,58,71,93,122,134,143,176,184,187,1...\n",
              "1  312.0  ...  29,81,98,102,165,167,195,205,218,231,242,263,3...\n",
              "2   70.0  ...  12,23,25,29,45,85,92,124,156,190,272,334,456,5...\n",
              "3  240.0  ...  44,122,187,209,242,255,312,345,382,465,513,524...\n",
              "4  262.0  ...  15,24,30,43,50,53,96,105,159,168,181,190,196,2...\n",
              "\n",
              "[5 rows x 6 columns]"
            ]
          },
          "metadata": {
            "tags": []
          },
          "execution_count": 9
        }
      ]
    },
    {
      "cell_type": "code",
      "metadata": {
        "id": "D8RIEPe1KuR2",
        "colab_type": "code",
        "outputId": "56ea71c6-ca3e-488d-9fcc-b333298ba260",
        "colab": {
          "base_uri": "https://localhost:8080/",
          "height": 49,
          "referenced_widgets": [
            "881ba8a2b2884ae39f5fc8b783caade4",
            "fd4f6d4a0faa4072830c928ed4f263fa",
            "c3c3b543e07a43aab0681eafbd6d7399",
            "a0f7f28865b54a1e8e480a49e7a6fb67",
            "b9517688da954c4bb575a532477b4f00",
            "dec78c4c0251465a8b08f6f98bd1685a",
            "7adbf106e0e24fcb902170466a06e0bb",
            "48e93fe2e93c4f48ae03d0896eb541c8"
          ]
        }
      },
      "source": [
        "count_of_users_on_publ = []\n",
        "\n",
        "from tqdm import tqdm_notebook\n",
        "from datetime import datetime\n",
        "import time\n",
        "\n",
        "start_time = datetime.now()\n",
        "\n",
        "coun = []\n",
        "mean_cmp = []\n",
        "max_cmp = []\n",
        "min_cmp = []\n",
        "for i in tqdm_notebook(validate.index):\n",
        "  ids = [int(j) for j in validate['user_ids'].iloc[i].split(',')]\n",
        "  publs = [int(j) for j in validate['publishers'].iloc[i].split(',')]\n",
        "  df = history[(history['user_id'].isin(ids)) & (history['publisher'].isin(publs))]\n",
        "  g = df.count()['hour']\n",
        "  count_of_users_on_publ.append(g)\n",
        "\n",
        "  mean_cmp.append(df['cpm'].mean())\n",
        "  max_cmp.append(df['cpm'].max())\n",
        "  min_cmp.append(df['cpm'].min())\n",
        "  c = df[['publisher', 'user_id']].drop_duplicates().count()['publisher']\n",
        "  coun.append(c)\n",
        "  "
      ],
      "execution_count": 0,
      "outputs": [
        {
          "output_type": "display_data",
          "data": {
            "application/vnd.jupyter.widget-view+json": {
              "model_id": "881ba8a2b2884ae39f5fc8b783caade4",
              "version_minor": 0,
              "version_major": 2
            },
            "text/plain": [
              "HBox(children=(IntProgress(value=0, max=1008), HTML(value='')))"
            ]
          },
          "metadata": {
            "tags": []
          }
        }
      ]
    },
    {
      "cell_type": "code",
      "metadata": {
        "id": "1fGOOTRNQYxW",
        "colab_type": "code",
        "outputId": "7bf712c6-7f5d-45d9-ec90-76dd74653747",
        "colab": {
          "base_uri": "https://localhost:8080/",
          "height": 206
        }
      },
      "source": [
        "validate_answers = pd.read_csv(\"/vkcup/My Drive/Colab Notebooks/vkcup2/data/validate_answers.tsv\", sep=\"\\t\")\n",
        "validate_answers.head()"
      ],
      "execution_count": 0,
      "outputs": [
        {
          "output_type": "execute_result",
          "data": {
            "text/html": [
              "<div>\n",
              "<style scoped>\n",
              "    .dataframe tbody tr th:only-of-type {\n",
              "        vertical-align: middle;\n",
              "    }\n",
              "\n",
              "    .dataframe tbody tr th {\n",
              "        vertical-align: top;\n",
              "    }\n",
              "\n",
              "    .dataframe thead th {\n",
              "        text-align: right;\n",
              "    }\n",
              "</style>\n",
              "<table border=\"1\" class=\"dataframe\">\n",
              "  <thead>\n",
              "    <tr style=\"text-align: right;\">\n",
              "      <th></th>\n",
              "      <th>at_least_one</th>\n",
              "      <th>at_least_two</th>\n",
              "      <th>at_least_three</th>\n",
              "    </tr>\n",
              "  </thead>\n",
              "  <tbody>\n",
              "    <tr>\n",
              "      <th>0</th>\n",
              "      <td>0.0430</td>\n",
              "      <td>0.0152</td>\n",
              "      <td>0.0073</td>\n",
              "    </tr>\n",
              "    <tr>\n",
              "      <th>1</th>\n",
              "      <td>0.0130</td>\n",
              "      <td>0.0000</td>\n",
              "      <td>0.0000</td>\n",
              "    </tr>\n",
              "    <tr>\n",
              "      <th>2</th>\n",
              "      <td>0.0878</td>\n",
              "      <td>0.0135</td>\n",
              "      <td>0.0000</td>\n",
              "    </tr>\n",
              "    <tr>\n",
              "      <th>3</th>\n",
              "      <td>0.2295</td>\n",
              "      <td>0.1295</td>\n",
              "      <td>0.0727</td>\n",
              "    </tr>\n",
              "    <tr>\n",
              "      <th>4</th>\n",
              "      <td>0.3963</td>\n",
              "      <td>0.2785</td>\n",
              "      <td>0.2270</td>\n",
              "    </tr>\n",
              "  </tbody>\n",
              "</table>\n",
              "</div>"
            ],
            "text/plain": [
              "   at_least_one  at_least_two  at_least_three\n",
              "0        0.0430        0.0152          0.0073\n",
              "1        0.0130        0.0000          0.0000\n",
              "2        0.0878        0.0135          0.0000\n",
              "3        0.2295        0.1295          0.0727\n",
              "4        0.3963        0.2785          0.2270"
            ]
          },
          "metadata": {
            "tags": []
          },
          "execution_count": 24
        }
      ]
    },
    {
      "cell_type": "code",
      "metadata": {
        "id": "G_VPOcW17whk",
        "colab_type": "code",
        "outputId": "bceb7ad1-d7b7-44eb-8dc7-f1bbd682dc4b",
        "colab": {
          "base_uri": "https://localhost:8080/",
          "height": 54
        }
      },
      "source": [
        "import sys\n",
        "\n",
        "import pandas as pd\n",
        "import numpy as np\n",
        "\n",
        "\n",
        "def load_answers(answers_filename):\n",
        "    return pd.read_csv(answers_filename, sep=\"\\t\")\n",
        "\n",
        "\n",
        "def get_smoothed_log_mape_column_value(responses_column, answers_column, epsilon):\n",
        "    return np.abs(np.log(\n",
        "        (responses_column + epsilon)\n",
        "        / (answers_column + epsilon)\n",
        "    )).mean()\n",
        "\n",
        "\n",
        "def get_smoothed_mean_log_accuracy_ratio(answers, responses, epsilon=0.005):\n",
        "    log_accuracy_ratio_mean = np.array(\n",
        "        [\n",
        "            get_smoothed_log_mape_column_value(responses.at_least_one, answers.at_least_one, epsilon),\n",
        "            get_smoothed_log_mape_column_value(responses.at_least_two, answers.at_least_two, epsilon),\n",
        "            get_smoothed_log_mape_column_value(responses.at_least_three, answers.at_least_three, epsilon),\n",
        "        ]\n",
        "    ).mean()\n",
        "\n",
        "    percentage_error = 100 * (np.exp(log_accuracy_ratio_mean) - 1)\n",
        "\n",
        "    return percentage_error.round(\n",
        "        decimals=2\n",
        "    )\n",
        "\n",
        "'''\n",
        "def main():\n",
        "    answers_filename = sys.argv[1]\n",
        "    responses_filename = sys.argv[2]\n",
        "\n",
        "    answers = load_answers(answers_filename)\n",
        "    responses = load_answers(responses_filename)\n",
        "\n",
        "    print(get_smoothed_mean_log_accuracy_ratio(answers, responses))\n",
        "\n",
        "\n",
        "if __name__ == '__main__':\n",
        "    main()\n",
        "'''"
      ],
      "execution_count": 0,
      "outputs": [
        {
          "output_type": "execute_result",
          "data": {
            "text/plain": [
              "\"\\ndef main():\\n    answers_filename = sys.argv[1]\\n    responses_filename = sys.argv[2]\\n\\n    answers = load_answers(answers_filename)\\n    responses = load_answers(responses_filename)\\n\\n    print(get_smoothed_mean_log_accuracy_ratio(answers, responses))\\n\\n\\nif __name__ == '__main__':\\n    main()\\n\""
            ]
          },
          "metadata": {
            "tags": []
          },
          "execution_count": 25
        }
      ]
    },
    {
      "cell_type": "code",
      "metadata": {
        "id": "qe-TT4tQsFOR",
        "colab_type": "code",
        "colab": {}
      },
      "source": [
        "x = pd.DataFrame({'hour_end': validate['hour_end'],\n",
        "                  'hour_start': validate['hour_start'],\n",
        "                  'time_delta': validate['hour_end'] - validate['hour_start'],\n",
        "                  'count_publishers': validate['publishers'].apply(lambda x: len(x.split(','))),\n",
        "                  'cpm': validate['cpm'],\n",
        "                  'audience_size': validate['audience_size'],\n",
        "                  'count_of_users_on_publ': count_of_users_on_publ,\n",
        "                  'p': validate['audience_size'] / count_of_users_on_publ,\n",
        "                  'mean_cmp': mean_cmp,\n",
        "                  'diff': mean_cmp - validate['cpm'],\n",
        "                  'sub': mean_cmp/validate['cpm'],\n",
        "                  })\n",
        "y = validate_answers"
      ],
      "execution_count": 0,
      "outputs": []
    },
    {
      "cell_type": "code",
      "metadata": {
        "id": "fqyub9-6udkJ",
        "colab_type": "code",
        "outputId": "bf810177-5cc5-49c8-aa3f-be518d3c97a1",
        "colab": {
          "base_uri": "https://localhost:8080/",
          "height": 206
        }
      },
      "source": [
        "x.head()"
      ],
      "execution_count": 0,
      "outputs": [
        {
          "output_type": "execute_result",
          "data": {
            "text/html": [
              "<div>\n",
              "<style scoped>\n",
              "    .dataframe tbody tr th:only-of-type {\n",
              "        vertical-align: middle;\n",
              "    }\n",
              "\n",
              "    .dataframe tbody tr th {\n",
              "        vertical-align: top;\n",
              "    }\n",
              "\n",
              "    .dataframe thead th {\n",
              "        text-align: right;\n",
              "    }\n",
              "</style>\n",
              "<table border=\"1\" class=\"dataframe\">\n",
              "  <thead>\n",
              "    <tr style=\"text-align: right;\">\n",
              "      <th></th>\n",
              "      <th>hour_end</th>\n",
              "      <th>hour_start</th>\n",
              "      <th>time_delta</th>\n",
              "      <th>count_publishers</th>\n",
              "      <th>cpm</th>\n",
              "      <th>audience_size</th>\n",
              "      <th>count_of_users_on_publ</th>\n",
              "      <th>p</th>\n",
              "      <th>mean_cmp</th>\n",
              "      <th>diff</th>\n",
              "      <th>sub</th>\n",
              "    </tr>\n",
              "  </thead>\n",
              "  <tbody>\n",
              "    <tr>\n",
              "      <th>0</th>\n",
              "      <td>1153</td>\n",
              "      <td>1058</td>\n",
              "      <td>95</td>\n",
              "      <td>2</td>\n",
              "      <td>220.0</td>\n",
              "      <td>1906</td>\n",
              "      <td>4598</td>\n",
              "      <td>0.414528</td>\n",
              "      <td>253.183282</td>\n",
              "      <td>33.183282</td>\n",
              "      <td>1.150833</td>\n",
              "    </tr>\n",
              "    <tr>\n",
              "      <th>1</th>\n",
              "      <td>1301</td>\n",
              "      <td>1295</td>\n",
              "      <td>6</td>\n",
              "      <td>2</td>\n",
              "      <td>312.0</td>\n",
              "      <td>1380</td>\n",
              "      <td>10967</td>\n",
              "      <td>0.125832</td>\n",
              "      <td>173.083709</td>\n",
              "      <td>-138.916291</td>\n",
              "      <td>0.554755</td>\n",
              "    </tr>\n",
              "    <tr>\n",
              "      <th>2</th>\n",
              "      <td>1249</td>\n",
              "      <td>1229</td>\n",
              "      <td>20</td>\n",
              "      <td>6</td>\n",
              "      <td>70.0</td>\n",
              "      <td>888</td>\n",
              "      <td>34691</td>\n",
              "      <td>0.025597</td>\n",
              "      <td>197.274887</td>\n",
              "      <td>127.274887</td>\n",
              "      <td>2.818213</td>\n",
              "    </tr>\n",
              "    <tr>\n",
              "      <th>3</th>\n",
              "      <td>1377</td>\n",
              "      <td>1295</td>\n",
              "      <td>82</td>\n",
              "      <td>2</td>\n",
              "      <td>240.0</td>\n",
              "      <td>440</td>\n",
              "      <td>10146</td>\n",
              "      <td>0.043367</td>\n",
              "      <td>195.917368</td>\n",
              "      <td>-44.082632</td>\n",
              "      <td>0.816322</td>\n",
              "    </tr>\n",
              "    <tr>\n",
              "      <th>4</th>\n",
              "      <td>990</td>\n",
              "      <td>752</td>\n",
              "      <td>238</td>\n",
              "      <td>4</td>\n",
              "      <td>262.0</td>\n",
              "      <td>1476</td>\n",
              "      <td>42564</td>\n",
              "      <td>0.034677</td>\n",
              "      <td>234.729084</td>\n",
              "      <td>-27.270916</td>\n",
              "      <td>0.895913</td>\n",
              "    </tr>\n",
              "  </tbody>\n",
              "</table>\n",
              "</div>"
            ],
            "text/plain": [
              "   hour_end  hour_start  time_delta  ...    mean_cmp        diff       sub\n",
              "0      1153        1058          95  ...  253.183282   33.183282  1.150833\n",
              "1      1301        1295           6  ...  173.083709 -138.916291  0.554755\n",
              "2      1249        1229          20  ...  197.274887  127.274887  2.818213\n",
              "3      1377        1295          82  ...  195.917368  -44.082632  0.816322\n",
              "4       990         752         238  ...  234.729084  -27.270916  0.895913\n",
              "\n",
              "[5 rows x 11 columns]"
            ]
          },
          "metadata": {
            "tags": []
          },
          "execution_count": 129
        }
      ]
    },
    {
      "cell_type": "code",
      "metadata": {
        "id": "JJJ9ZTUaWiIw",
        "colab_type": "code",
        "outputId": "a05f315f-3f36-46b4-e90f-610b3da32420",
        "colab": {
          "base_uri": "https://localhost:8080/",
          "height": 208
        }
      },
      "source": [
        "from sklearn.model_selection import KFold\n",
        "from sklearn.preprocessing import MinMaxScaler\n",
        "\n",
        "scores = []\n",
        "\n",
        "\n",
        "model_1 = CatBoostRegressor(n_estimators=5000, \n",
        "                        depth=5,\n",
        "                        l2_leaf_reg=0.1,\n",
        "                        learning_rate=0.01,\n",
        "                        )\n",
        "model_2 = CatBoostRegressor(n_estimators=5000, \n",
        "                        depth=5,\n",
        "                        l2_leaf_reg=0.1,\n",
        "                        learning_rate=0.01,\n",
        "                        )\n",
        "model_3 = CatBoostRegressor(n_estimators=5000, \n",
        "                        depth=5,\n",
        "                        l2_leaf_reg=0.1,\n",
        "                        learning_rate=0.01,\n",
        "                        )\n",
        "\n",
        "\n",
        "iters1 = []\n",
        "iters2 = []\n",
        "iters3 = []\n",
        "\n",
        "for (train_index, valid_index) in KFold(n_splits=5).split(x, y):\n",
        "  scaler = MinMaxScaler()\n",
        "  X_train, X_valid = x.iloc[train_index], x.iloc[valid_index]\n",
        "  y_train, y_valid = y.iloc[train_index], y.iloc[valid_index]\n",
        "\n",
        "  model_1.fit(X_train, y_train['at_least_one'], eval_set=[(X_valid, y_valid['at_least_one'])], verbose=0, early_stopping_rounds=200)\n",
        "  model_2.fit(X_train, y_train['at_least_two'], eval_set=[(X_valid, y_valid['at_least_two'])], verbose=0, early_stopping_rounds=200)\n",
        "  model_3.fit(X_train, y_train['at_least_three'], eval_set=[(X_valid, y_valid['at_least_three'])], verbose=0, early_stopping_rounds=200)\n",
        "\n",
        "  a = model_1.predict(X_valid)\n",
        "  b = model_2.predict(X_valid)\n",
        "  c = model_3.predict(X_valid)\n",
        "\n",
        "  a[a<0]=0\n",
        "  b[b<0]=0\n",
        "  c[c<0]=0\n",
        "  b[a<b] = a[a<b]/2\n",
        "  c[b<c] = b[b<c]/2\n",
        "  c[a<c] = a[a<c]/4\n",
        "\n",
        "  iters1.append(model_1.best_iteration_)\n",
        "  iters2.append(model_2.best_iteration_)\n",
        "  iters3.append(model_3.best_iteration_)\n",
        "  print(model_1.best_iteration_, model_2.best_iteration_, model_3.best_iteration_)\n",
        "  res  = pd.DataFrame({'at_least_one':a, 'at_least_two':b, 'at_least_three':c})\n",
        "  scores.append(get_smoothed_mean_log_accuracy_ratio(res, y_valid.reset_index()))\n",
        "  print(get_smoothed_mean_log_accuracy_ratio(res, y_valid.reset_index()))\n",
        "print(np.mean(scores))"
      ],
      "execution_count": 0,
      "outputs": [
        {
          "output_type": "stream",
          "text": [
            "2064 3992 1574\n",
            "20.39\n",
            "2794 2125 3258\n",
            "18.4\n",
            "487 2349 1153\n",
            "26.98\n",
            "3304 4015 2683\n",
            "23.69\n",
            "1392 4126 4992\n",
            "24.19\n",
            "22.729999999999997\n"
          ],
          "name": "stdout"
        }
      ]
    },
    {
      "cell_type": "code",
      "metadata": {
        "id": "53v6kXBTioVV",
        "colab_type": "code",
        "outputId": "fb378643-c5d5-448e-bc76-ea6cd22aef89",
        "colab": {
          "base_uri": "https://localhost:8080/",
          "height": 69
        }
      },
      "source": [
        "print(np.mean(iters1))\n",
        "print(np.mean(iters2))\n",
        "print(np.mean(iters3))"
      ],
      "execution_count": 0,
      "outputs": [
        {
          "output_type": "stream",
          "text": [
            "2008.2\n",
            "3321.4\n",
            "2732.0\n"
          ],
          "name": "stdout"
        }
      ]
    },
    {
      "cell_type": "code",
      "metadata": {
        "id": "EzMwuxQ-i9Bz",
        "colab_type": "code",
        "colab": {}
      },
      "source": [
        "i1 = int(np.mean(iters1))-100\n",
        "i2 = int(np.mean(iters2))-100\n",
        "i3 = int(np.mean(iters3))-100\n",
        "model_1 = CatBoostRegressor(n_estimators=i1, \n",
        "                        max_depth=5,\n",
        "                        l2_leaf_reg=0.1,\n",
        "                        learning_rate=0.01,\n",
        "                        verbose=0)\n",
        "model_2 = CatBoostRegressor(n_estimators=i2, \n",
        "                        max_depth=5,\n",
        "                        l2_leaf_reg=0.1,\n",
        "                        learning_rate=0.01,\n",
        "                        verbose=0)\n",
        "model_3 = CatBoostRegressor(n_estimators=i3, \n",
        "                        max_depth=5,\n",
        "                        l2_leaf_reg=0.1,\n",
        "                        learning_rate=0.01,\n",
        "                        verbose=0)\n"
      ],
      "execution_count": 0,
      "outputs": []
    },
    {
      "cell_type": "code",
      "metadata": {
        "id": "nwDpTotp2dmX",
        "colab_type": "code",
        "outputId": "939b125d-d1b2-4714-9b2b-1e155fb5f2b6",
        "colab": {
          "base_uri": "https://localhost:8080/",
          "height": 34
        }
      },
      "source": [
        "model_1.fit(x, y['at_least_one'])\n",
        "model_2.fit(x, y['at_least_two'])\n",
        "model_3.fit(x, y['at_least_three'])"
      ],
      "execution_count": 0,
      "outputs": [
        {
          "output_type": "execute_result",
          "data": {
            "text/plain": [
              "<catboost.core.CatBoostRegressor at 0x7f4c18ea9470>"
            ]
          },
          "metadata": {
            "tags": []
          },
          "execution_count": 162
        }
      ]
    },
    {
      "cell_type": "code",
      "metadata": {
        "id": "T3HKzr9XyWUM",
        "colab_type": "code",
        "outputId": "223a2cd3-03b7-4977-f0a7-7da604bb2d66",
        "colab": {
          "base_uri": "https://localhost:8080/",
          "height": 86
        }
      },
      "source": [
        "x.columns[np.argsort(model_3.feature_importances_)[::-1]]"
      ],
      "execution_count": 0,
      "outputs": [
        {
          "output_type": "execute_result",
          "data": {
            "text/plain": [
              "Index(['time_delta', 'p', 'diff', 'sub', 'count_of_users_on_publ', 'cpm',\n",
              "       'mean_cmp', 'audience_size', 'hour_end', 'hour_start',\n",
              "       'count_publishers'],\n",
              "      dtype='object')"
            ]
          },
          "metadata": {
            "tags": []
          },
          "execution_count": 163
        }
      ]
    },
    {
      "cell_type": "code",
      "metadata": {
        "id": "whNi8KnejTOl",
        "colab_type": "code",
        "outputId": "0811e6c6-73a4-4f53-c73a-51e2d7a5001e",
        "colab": {
          "base_uri": "https://localhost:8080/",
          "height": 69
        }
      },
      "source": [
        "%%time\n",
        "a = model_1.predict(x)\n",
        "b = model_2.predict(x)\n",
        "c = model_3.predict(x)\n",
        "\n",
        "a[a<0]=0\n",
        "b[b<0]=0\n",
        "c[c<0]=0\n",
        "b[a<b] = a[a<b]/2\n",
        "c[b<c] = b[b<c]/2\n",
        "c[a<c] = a[a<c]/4\n",
        "res  = pd.DataFrame({'at_least_one':a, 'at_least_two':b, 'at_least_three':c})\n",
        "print(get_smoothed_mean_log_accuracy_ratio(res, y))"
      ],
      "execution_count": 0,
      "outputs": [
        {
          "output_type": "stream",
          "text": [
            "10.61\n",
            "CPU times: user 19 ms, sys: 925 µs, total: 19.9 ms\n",
            "Wall time: 14.4 ms\n"
          ],
          "name": "stdout"
        }
      ]
    },
    {
      "cell_type": "code",
      "metadata": {
        "id": "jYwbDzsTXoAE",
        "colab_type": "code",
        "colab": {}
      },
      "source": [
        "import pickle\n",
        "\n",
        "pickle.dump(model_1, open(\"/vkcup/My Drive/Colab Notebooks/vkcup2/data/model1.pkl\", \"wb\"))\n",
        "pickle.dump(model_2, open(\"/vkcup/My Drive/Colab Notebooks/vkcup2/data/model2.pkl\", \"wb\"))\n",
        "pickle.dump(model_3, open(\"/vkcup/My Drive/Colab Notebooks/vkcup2/data/model3.pkl\", \"wb\"))"
      ],
      "execution_count": 0,
      "outputs": []
    },
    {
      "cell_type": "code",
      "metadata": {
        "id": "ptiM2UkgoN3P",
        "colab_type": "code",
        "colab": {}
      },
      "source": [
        ""
      ],
      "execution_count": 0,
      "outputs": []
    }
  ]
}